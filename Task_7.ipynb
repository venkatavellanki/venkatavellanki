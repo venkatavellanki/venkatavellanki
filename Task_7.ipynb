{
  "nbformat": 4,
  "nbformat_minor": 0,
  "metadata": {
    "colab": {
      "provenance": [],
      "authorship_tag": "ABX9TyNDZNnDThbTTe9lkdGQHldN",
      "include_colab_link": true
    },
    "kernelspec": {
      "name": "python3",
      "display_name": "Python 3"
    },
    "language_info": {
      "name": "python"
    }
  },
  "cells": [
    {
      "cell_type": "markdown",
      "metadata": {
        "id": "view-in-github",
        "colab_type": "text"
      },
      "source": [
        "<a href=\"https://colab.research.google.com/github/venkatavellanki/venkatavellanki/blob/main/Task_7.ipynb\" target=\"_parent\"><img src=\"https://colab.research.google.com/assets/colab-badge.svg\" alt=\"Open In Colab\"/></a>"
      ]
    },
    {
      "cell_type": "code",
      "execution_count": 1,
      "metadata": {
        "colab": {
          "base_uri": "https://localhost:8080/"
        },
        "id": "4UjQaDz9PjwW",
        "outputId": "6a4136c4-6c38-4ebc-8489-140ef4e6480f"
      },
      "outputs": [
        {
          "output_type": "stream",
          "name": "stdout",
          "text": [
            "(1, 2, 3, 4, 5, 6)\n"
          ]
        }
      ],
      "source": [
        "tuple1 = (1, 2, 3)\n",
        "tuple2 = (4, 5, 6)\n",
        "result = tuple1 + tuple2\n",
        "print(result)\n"
      ]
    },
    {
      "cell_type": "code",
      "source": [
        "my_tuple = (1, 2, 2, 3, 2, 4)\n",
        "count = my_tuple.count(2)\n",
        "print(count)"
      ],
      "metadata": {
        "colab": {
          "base_uri": "https://localhost:8080/"
        },
        "id": "wxp5XFHOPnPX",
        "outputId": "068e4eac-c5a0-42fb-a17e-3c07e958cc79"
      },
      "execution_count": 2,
      "outputs": [
        {
          "output_type": "stream",
          "name": "stdout",
          "text": [
            "3\n"
          ]
        }
      ]
    },
    {
      "cell_type": "code",
      "source": [
        "my_tuple = (10, 20, 30, 40)\n",
        "index = my_tuple.index(30)\n",
        "print(index)"
      ],
      "metadata": {
        "colab": {
          "base_uri": "https://localhost:8080/"
        },
        "id": "4qM9X7ZwP4nW",
        "outputId": "c84a6779-d2c0-45f2-eaaf-1691a02f5fda"
      },
      "execution_count": 3,
      "outputs": [
        {
          "output_type": "stream",
          "name": "stdout",
          "text": [
            "2\n"
          ]
        }
      ]
    },
    {
      "cell_type": "code",
      "source": [
        "my_list = [1, 2, 3, 4]\n",
        "my_tuple = tuple(my_list)\n",
        "print(my_tuple)"
      ],
      "metadata": {
        "colab": {
          "base_uri": "https://localhost:8080/"
        },
        "id": "FyjUWqYoP7y9",
        "outputId": "9b0658e3-8d70-4b5e-98d9-c3b3e25518f4"
      },
      "execution_count": 4,
      "outputs": [
        {
          "output_type": "stream",
          "name": "stdout",
          "text": [
            "(1, 2, 3, 4)\n"
          ]
        }
      ]
    },
    {
      "cell_type": "code",
      "source": [
        "nested = ((1, 2), (3, 4), (5, 6))\n",
        "print(nested[1])\n",
        "print(nested[1][0])"
      ],
      "metadata": {
        "colab": {
          "base_uri": "https://localhost:8080/"
        },
        "id": "iyrb1fBtQExd",
        "outputId": "7d790c0f-f3f9-49b5-db2e-9c035b74951e"
      },
      "execution_count": 5,
      "outputs": [
        {
          "output_type": "stream",
          "name": "stdout",
          "text": [
            "(3, 4)\n",
            "3\n"
          ]
        }
      ]
    },
    {
      "cell_type": "code",
      "source": [
        "my_tuple = (10, 20, 30)\n",
        "print(20 in my_tuple)"
      ],
      "metadata": {
        "colab": {
          "base_uri": "https://localhost:8080/"
        },
        "id": "MUYgrdz6QP_M",
        "outputId": "babf1bdf-8607-4730-866b-4c654a96fcb4"
      },
      "execution_count": 6,
      "outputs": [
        {
          "output_type": "stream",
          "name": "stdout",
          "text": [
            "True\n"
          ]
        }
      ]
    },
    {
      "cell_type": "code",
      "source": [
        "my_set = {1, 2, 3}\n",
        "my_set.add(4)\n",
        "print(my_set)\n",
        "\n",
        "my_set.remove(2)\n",
        "\n",
        "my_set.discard(5)\n",
        "print(my_set)\n"
      ],
      "metadata": {
        "colab": {
          "base_uri": "https://localhost:8080/"
        },
        "id": "njJZLEM3QR1q",
        "outputId": "a6e63826-975a-42e0-ea61-ecb29972dcf0"
      },
      "execution_count": 7,
      "outputs": [
        {
          "output_type": "stream",
          "name": "stdout",
          "text": [
            "{1, 2, 3, 4}\n",
            "{1, 3, 4}\n"
          ]
        }
      ]
    },
    {
      "cell_type": "code",
      "source": [
        "set1 = {1, 2, 3}\n",
        "set2 = {3, 4, 5}\n",
        "union = set1 | set2\n",
        "print(union)"
      ],
      "metadata": {
        "colab": {
          "base_uri": "https://localhost:8080/"
        },
        "id": "QrwckijoQZbW",
        "outputId": "01ab1f40-7f28-4472-d2c1-b3cff051573e"
      },
      "execution_count": 8,
      "outputs": [
        {
          "output_type": "stream",
          "name": "stdout",
          "text": [
            "{1, 2, 3, 4, 5}\n"
          ]
        }
      ]
    },
    {
      "cell_type": "code",
      "source": [
        "intersection = set1 & set2\n",
        "print(intersection)\n"
      ],
      "metadata": {
        "colab": {
          "base_uri": "https://localhost:8080/"
        },
        "id": "rl2HDKatQqu2",
        "outputId": "f3694821-7d43-4d44-b6c2-91c3cf454c7a"
      },
      "execution_count": 9,
      "outputs": [
        {
          "output_type": "stream",
          "name": "stdout",
          "text": [
            "{3}\n"
          ]
        }
      ]
    },
    {
      "cell_type": "code",
      "source": [
        "difference = set1 - set2\n",
        "print(difference)\n"
      ],
      "metadata": {
        "colab": {
          "base_uri": "https://localhost:8080/"
        },
        "id": "Z_p2xV24Q3wM",
        "outputId": "130302fc-bcde-469e-9f92-6cdd32bde248"
      },
      "execution_count": 11,
      "outputs": [
        {
          "output_type": "stream",
          "name": "stdout",
          "text": [
            "{1, 2}\n"
          ]
        }
      ]
    },
    {
      "cell_type": "code",
      "source": [
        "set1 = {1, 2, 3, 4}\n",
        "set2 = {3, 4, 5, 6}\n",
        "\n",
        "union_set = set1 | set2\n",
        "\n",
        "intersection_set = set1 & set2\n",
        "\n",
        "difference_set = set1 - set2\n",
        "\n",
        "print(\"Set 1:\", set1)\n",
        "print(\"Set 2:\", set2)\n",
        "print(\"Union:\", union_set)\n",
        "print(\"Intersection:\", intersection_set)\n",
        "print(\"Difference (set1 - set2):\", difference_set)\n"
      ],
      "metadata": {
        "colab": {
          "base_uri": "https://localhost:8080/"
        },
        "id": "AOrf12GlRF9l",
        "outputId": "33d33847-475e-4a94-c3c8-c770bdb30f62"
      },
      "execution_count": 13,
      "outputs": [
        {
          "output_type": "stream",
          "name": "stdout",
          "text": [
            "Set 1: {1, 2, 3, 4}\n",
            "Set 2: {3, 4, 5, 6}\n",
            "Union: {1, 2, 3, 4, 5, 6}\n",
            "Intersection: {3, 4}\n",
            "Difference (set1 - set2): {1, 2}\n"
          ]
        }
      ]
    },
    {
      "cell_type": "code",
      "source": [
        "my_set = {1, 2, 3, 4, 5}\n",
        "print(\"Initial set:\", my_set)\n",
        "\n",
        "num_to_add = 7\n",
        "my_set.add(num_to_add)\n",
        "print(\"After adding\", num_to_add, \":\", my_set)\n",
        "\n",
        "num_to_remove = 3\n",
        "if num_to_remove in my_set:\n",
        "    my_set.remove(num_to_remove)\n",
        "    print(\"After remove()\", num_to_remove, \":\", my_set)\n",
        "else:\n",
        "    print(num_to_remove, \"not found, remove() would cause an error\")\n",
        "\n",
        "num_to_discard = 10\n",
        "my_set.discard(num_to_discard)\n",
        "print(\"After discard()\", num_to_discard, \":\", my_set)"
      ],
      "metadata": {
        "colab": {
          "base_uri": "https://localhost:8080/"
        },
        "id": "BqRv5MP9R9Tx",
        "outputId": "c2cc5e51-dfc4-485e-fefb-0e141d1ef3cb"
      },
      "execution_count": 15,
      "outputs": [
        {
          "output_type": "stream",
          "name": "stdout",
          "text": [
            "Initial set: {1, 2, 3, 4, 5}\n",
            "After adding 7 : {1, 2, 3, 4, 5, 7}\n",
            "After remove() 3 : {1, 2, 4, 5, 7}\n",
            "After discard() 10 : {1, 2, 4, 5, 7}\n"
          ]
        }
      ]
    },
    {
      "cell_type": "code",
      "source": [
        "fs1 = frozenset([1, 2, 3, 4])\n",
        "fs2 = frozenset([3, 4, 5, 6])\n",
        "\n",
        "print(\"Frozenset 1:\", fs1)\n",
        "print(\"Frozenset 2:\", fs2)\n",
        "\n",
        "union_result = fs1 | fs2\n",
        "print(\"Union:\", union_result)\n",
        "\n",
        "intersection_result = fs1 & fs2\n",
        "print(\"Intersection:\", intersection_result)\n",
        "\n",
        "try:\n",
        "    fs1.add(7)  # This will raise an AttributeError\n",
        "except AttributeError as e:\n",
        "    print(\"Error:\", e)\n"
      ],
      "metadata": {
        "colab": {
          "base_uri": "https://localhost:8080/"
        },
        "id": "FTVx2HVKSKcr",
        "outputId": "faf1a366-4f4b-4737-c876-4a496fdc4e5e"
      },
      "execution_count": 16,
      "outputs": [
        {
          "output_type": "stream",
          "name": "stdout",
          "text": [
            "Frozenset 1: frozenset({1, 2, 3, 4})\n",
            "Frozenset 2: frozenset({3, 4, 5, 6})\n",
            "Union: frozenset({1, 2, 3, 4, 5, 6})\n",
            "Intersection: frozenset({3, 4})\n",
            "Error: 'frozenset' object has no attribute 'add'\n"
          ]
        }
      ]
    },
    {
      "cell_type": "code",
      "source": [
        "sentence = input(\"Enter a sentence: \")\n",
        "\n",
        "words = sentence.split()\n",
        "\n",
        "unique_words = set(words)\n",
        "\n",
        "print(\"Unique words:\", unique_words)\n"
      ],
      "metadata": {
        "colab": {
          "base_uri": "https://localhost:8080/"
        },
        "id": "v94Wa-oEScg6",
        "outputId": "4a1a1a45-afb9-4133-cbc4-9935a0556410"
      },
      "execution_count": 18,
      "outputs": [
        {
          "output_type": "stream",
          "name": "stdout",
          "text": [
            "Enter a sentence: hello world hello everyone\n",
            "Unique words: {'everyone', 'hello', 'world'}\n"
          ]
        }
      ]
    }
  ]
}