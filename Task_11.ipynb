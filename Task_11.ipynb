{
  "nbformat": 4,
  "nbformat_minor": 0,
  "metadata": {
    "colab": {
      "provenance": [],
      "authorship_tag": "ABX9TyOuecCr+PrFS83+x81UhZp/",
      "include_colab_link": true
    },
    "kernelspec": {
      "name": "python3",
      "display_name": "Python 3"
    },
    "language_info": {
      "name": "python"
    }
  },
  "cells": [
    {
      "cell_type": "markdown",
      "metadata": {
        "id": "view-in-github",
        "colab_type": "text"
      },
      "source": [
        "<a href=\"https://colab.research.google.com/github/venkatavellanki/venkatavellanki/blob/main/Task_11.ipynb\" target=\"_parent\"><img src=\"https://colab.research.google.com/assets/colab-badge.svg\" alt=\"Open In Colab\"/></a>"
      ]
    },
    {
      "cell_type": "code",
      "execution_count": 3,
      "metadata": {
        "colab": {
          "base_uri": "https://localhost:8080/"
        },
        "id": "ShV8Zimvnp2-",
        "outputId": "22f96301-f625-4a60-c48b-b5b7f541554a"
      },
      "outputs": [
        {
          "output_type": "stream",
          "name": "stdout",
          "text": [
            "Car Brand: Toyota\n"
          ]
        }
      ],
      "source": [
        "class Car:\n",
        "    brand = \"Toyota\"\n",
        "\n",
        "my_car = Car()\n",
        "print(\"Car Brand:\", my_car.brand)"
      ]
    },
    {
      "cell_type": "code",
      "source": [
        "class Greeting:\n",
        "    def say_hello(self):\n",
        "        print(\"Hello, welcome to Python classes!\")\n",
        "\n",
        "greet = Greeting()\n",
        "greet.say_hello()"
      ],
      "metadata": {
        "colab": {
          "base_uri": "https://localhost:8080/"
        },
        "id": "lBjEgYSrofxk",
        "outputId": "4e64318d-5299-4ef4-f676-50191e448ccb"
      },
      "execution_count": 4,
      "outputs": [
        {
          "output_type": "stream",
          "name": "stdout",
          "text": [
            "Hello, welcome to Python classes!\n"
          ]
        }
      ]
    },
    {
      "cell_type": "code",
      "source": [
        "class Person:\n",
        "    def __init__(self, name):\n",
        "        self.name = name\n",
        "\n",
        "p = Person(\"Aditya\")\n",
        "print(p.name)\n",
        "\n",
        "# Deleting property\n",
        "del p.name\n",
        "\n",
        "# Deleting object\n",
        "del p"
      ],
      "metadata": {
        "colab": {
          "base_uri": "https://localhost:8080/"
        },
        "id": "Fy2JmQBYol0C",
        "outputId": "acc418de-964d-415a-9eab-c7bb1a923dc8"
      },
      "execution_count": 5,
      "outputs": [
        {
          "output_type": "stream",
          "name": "stdout",
          "text": [
            "Aditya\n"
          ]
        }
      ]
    },
    {
      "cell_type": "code",
      "source": [
        "class Animal:\n",
        "    def sound(self):\n",
        "        print(\"This animal makes a sound\")\n",
        "\n",
        "a = Animal()\n",
        "a.sound()"
      ],
      "metadata": {
        "colab": {
          "base_uri": "https://localhost:8080/"
        },
        "id": "3if-0T19ouv8",
        "outputId": "090e2f5c-7c25-4872-9c97-21c4e0d06256"
      },
      "execution_count": 6,
      "outputs": [
        {
          "output_type": "stream",
          "name": "stdout",
          "text": [
            "This animal makes a sound\n"
          ]
        }
      ]
    },
    {
      "cell_type": "code",
      "source": [
        "class Book:\n",
        "    def __init__(self, title, author):\n",
        "        self.title = title\n",
        "        self.author = author\n",
        "\n",
        "    def show_info(self):\n",
        "        print(f\"'{self.title}' by {self.author}\")\n",
        "\n",
        "book1 = Book(\"1984\", \"George Orwell\")\n",
        "book1.show_info()"
      ],
      "metadata": {
        "colab": {
          "base_uri": "https://localhost:8080/"
        },
        "id": "PN12d6eAowqk",
        "outputId": "0d41c739-2d80-41c2-c59c-c159d6ba7e32"
      },
      "execution_count": 7,
      "outputs": [
        {
          "output_type": "stream",
          "name": "stdout",
          "text": [
            "'1984' by George Orwell\n"
          ]
        }
      ]
    },
    {
      "cell_type": "code",
      "source": [
        "class Student:\n",
        "    def __init__(self, name, age):\n",
        "        self.name = name\n",
        "        self.age = age\n",
        "\n",
        "s1 = Student(\"Aditya\", 22)\n",
        "s2 = Student(\"Sai\", 21)\n",
        "\n",
        "print(f\"Student 1: {s1.name}, Age: {s1.age}\")\n",
        "print(f\"Student 2: {s2.name}, Age: {s2.age}\")"
      ],
      "metadata": {
        "colab": {
          "base_uri": "https://localhost:8080/"
        },
        "id": "3rHdaaKZo0mZ",
        "outputId": "68a2f60b-ece3-405d-e197-3122678844a9"
      },
      "execution_count": 8,
      "outputs": [
        {
          "output_type": "stream",
          "name": "stdout",
          "text": [
            "Student 1: Aditya, Age: 22\n",
            "Student 2: Sai, Age: 21\n"
          ]
        }
      ]
    },
    {
      "cell_type": "code",
      "source": [
        "class Rectangle:\n",
        "    def __init__(self, length, width):\n",
        "        self.length = length\n",
        "        self.width = width\n",
        "\n",
        "    def area(self):\n",
        "        return self.length * self.width\n",
        "\n",
        "    def perimeter(self):\n",
        "        return 2 * (self.length + self.width)\n",
        "\n",
        "rect = Rectangle(5, 3)\n",
        "print(\"Area:\", rect.area())\n",
        "print(\"Perimeter:\", rect.perimeter())"
      ],
      "metadata": {
        "colab": {
          "base_uri": "https://localhost:8080/"
        },
        "id": "dZwbpaHzo7Lh",
        "outputId": "5c4611c4-a245-4e81-9f0e-bf569af5dd90"
      },
      "execution_count": 9,
      "outputs": [
        {
          "output_type": "stream",
          "name": "stdout",
          "text": [
            "Area: 15\n",
            "Perimeter: 16\n"
          ]
        }
      ]
    },
    {
      "cell_type": "code",
      "source": [
        "class Employee:\n",
        "    company = \"Google\"\n",
        "\n",
        "    def __init__(self, name):\n",
        "        self.name = name\n",
        "\n",
        "# Creating multiple objects\n",
        "e1 = Employee(\"Nivruth\")\n",
        "e2 = Employee(\"Padma\")\n",
        "\n",
        "print(f\"{e1.name} works at {e1.company}\")\n",
        "print(f\"{e2.name} works at {e2.company}\")"
      ],
      "metadata": {
        "colab": {
          "base_uri": "https://localhost:8080/"
        },
        "id": "ai_pp0Qto_KL",
        "outputId": "c8651640-b559-4203-e462-12a6aa2d03d8"
      },
      "execution_count": 10,
      "outputs": [
        {
          "output_type": "stream",
          "name": "stdout",
          "text": [
            "Nivruth works at Google\n",
            "Padma works at Google\n"
          ]
        }
      ]
    }
  ]
}