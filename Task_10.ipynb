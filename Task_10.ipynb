{
  "nbformat": 4,
  "nbformat_minor": 0,
  "metadata": {
    "colab": {
      "provenance": [],
      "authorship_tag": "ABX9TyPyHySwWlTtOMkgLrpBYYMP",
      "include_colab_link": true
    },
    "kernelspec": {
      "name": "python3",
      "display_name": "Python 3"
    },
    "language_info": {
      "name": "python"
    }
  },
  "cells": [
    {
      "cell_type": "markdown",
      "metadata": {
        "id": "view-in-github",
        "colab_type": "text"
      },
      "source": [
        "<a href=\"https://colab.research.google.com/github/venkatavellanki/venkatavellanki/blob/main/Task_10.ipynb\" target=\"_parent\"><img src=\"https://colab.research.google.com/assets/colab-badge.svg\" alt=\"Open In Colab\"/></a>"
      ]
    },
    {
      "cell_type": "code",
      "execution_count": 1,
      "metadata": {
        "colab": {
          "base_uri": "https://localhost:8080/"
        },
        "id": "xpbmV4Ll7DLl",
        "outputId": "2ff1049f-0778-4c10-cc52-61df274185d6"
      },
      "outputs": [
        {
          "output_type": "stream",
          "name": "stdout",
          "text": [
            "Doubled: [2, 4, 6, 8, 10]\n"
          ]
        }
      ],
      "source": [
        "nums = [1, 2, 3, 4, 5]\n",
        "doubled = list(map(lambda x: x * 2, nums))\n",
        "print(\"Doubled:\", doubled)"
      ]
    },
    {
      "cell_type": "code",
      "source": [
        "nums = [1, 2, 3, 4, 5, 6]\n",
        "evens = list(filter(lambda x: x % 2 == 0, nums))\n",
        "print(\"Even numbers:\", evens)"
      ],
      "metadata": {
        "colab": {
          "base_uri": "https://localhost:8080/"
        },
        "id": "d76aSyzk8FVW",
        "outputId": "88cb4de2-a98f-4bd7-9216-53731e56fbaa"
      },
      "execution_count": 2,
      "outputs": [
        {
          "output_type": "stream",
          "name": "stdout",
          "text": [
            "Even numbers: [2, 4, 6]\n"
          ]
        }
      ]
    },
    {
      "cell_type": "code",
      "source": [
        "nums = [1, 2, 3, 4]\n",
        "product = reduce(lambda x, y: x * y, nums)\n",
        "print(\"Product:\", product)"
      ],
      "metadata": {
        "colab": {
          "base_uri": "https://localhost:8080/"
        },
        "id": "b_0v9YWH8Pwb",
        "outputId": "a05d79be-9390-48c9-a048-5205af67faa6"
      },
      "execution_count": 13,
      "outputs": [
        {
          "output_type": "stream",
          "name": "stdout",
          "text": [
            "Product: 24\n"
          ]
        }
      ]
    },
    {
      "cell_type": "code",
      "source": [
        "capitalize = lambda s: ' '.join(word.capitalize() for word in s.split())\n",
        "print(capitalize(\"hello world from python\"))"
      ],
      "metadata": {
        "colab": {
          "base_uri": "https://localhost:8080/"
        },
        "id": "79unBlCf9CXA",
        "outputId": "136f7cae-3805-4026-8411-0a6d97d8a460"
      },
      "execution_count": 9,
      "outputs": [
        {
          "output_type": "stream",
          "name": "stdout",
          "text": [
            "Hello World From Python\n"
          ]
        }
      ]
    },
    {
      "cell_type": "code",
      "source": [
        "words = [\"apple\", \"banana\", \"kiwi\"]\n",
        "lengths = list(map(len, words))\n",
        "print(\"Lengths:\", lengths)"
      ],
      "metadata": {
        "colab": {
          "base_uri": "https://localhost:8080/"
        },
        "id": "Je0Tu5Wo9F1a",
        "outputId": "fe76bbcc-8afe-4092-cbb1-692b128acbbe"
      },
      "execution_count": 10,
      "outputs": [
        {
          "output_type": "stream",
          "name": "stdout",
          "text": [
            "Lengths: [5, 6, 4]\n"
          ]
        }
      ]
    },
    {
      "cell_type": "code",
      "source": [
        "words = [\"hi\", \"cat\", \"hello\", \"sun\", \"python\"]\n",
        "long_words = list(filter(lambda w: len(w) > 3, words))\n",
        "print(\"Words longer than 3 chars:\", long_words)"
      ],
      "metadata": {
        "colab": {
          "base_uri": "https://localhost:8080/"
        },
        "id": "mcV8aKUt9IqY",
        "outputId": "9663d7be-3bfb-42d2-c7fe-9ee4b05eef05"
      },
      "execution_count": 11,
      "outputs": [
        {
          "output_type": "stream",
          "name": "stdout",
          "text": [
            "Words longer than 3 chars: ['hello', 'python']\n"
          ]
        }
      ]
    },
    {
      "cell_type": "code",
      "source": [
        "words = [\"Hello\", \"World\", \"Python\"]\n",
        "concatenated = reduce(lambda x, y: x + \" \" + y, words)\n",
        "print(\"Concatenated:\", concatenated)"
      ],
      "metadata": {
        "colab": {
          "base_uri": "https://localhost:8080/"
        },
        "id": "EoRhDfRf9jAC",
        "outputId": "b20b1212-57c3-418a-c9cc-561f7dbe576c"
      },
      "execution_count": 12,
      "outputs": [
        {
          "output_type": "stream",
          "name": "stdout",
          "text": [
            "Concatenated: Hello World Python\n"
          ]
        }
      ]
    },
    {
      "cell_type": "code",
      "source": [
        "nums = [1, 2, 3, 4, 5, 6]\n",
        "squares_of_evens = list(map(lambda x: x ** 2, filter(lambda x: x % 2 == 0, nums)))\n",
        "print(\"Squares of even numbers:\", squares_of_evens)"
      ],
      "metadata": {
        "colab": {
          "base_uri": "https://localhost:8080/"
        },
        "id": "BQj0rZLB9pSH",
        "outputId": "f721b84f-b6ec-460e-ebc4-88f50ca2f85d"
      },
      "execution_count": 14,
      "outputs": [
        {
          "output_type": "stream",
          "name": "stdout",
          "text": [
            "Squares of even numbers: [4, 16, 36]\n"
          ]
        }
      ]
    },
    {
      "cell_type": "code",
      "source": [
        "nums = [1, 2, 3, 4, 5, 6]\n",
        "sum_of_squares = reduce(lambda x, y: x + y, map(lambda x: x ** 2, filter(lambda x: x % 2 == 0, nums)))\n",
        "print(\"Sum of squares of even numbers:\", sum_of_squares)"
      ],
      "metadata": {
        "id": "E3IRE6uG9spN",
        "outputId": "04943d81-fb81-4ed6-9eba-aea561b85315",
        "colab": {
          "base_uri": "https://localhost:8080/"
        }
      },
      "execution_count": 15,
      "outputs": [
        {
          "output_type": "stream",
          "name": "stdout",
          "text": [
            "Sum of squares of even numbers: 56\n"
          ]
        }
      ]
    }
  ]
}