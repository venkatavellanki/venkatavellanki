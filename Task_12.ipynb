{
  "nbformat": 4,
  "nbformat_minor": 0,
  "metadata": {
    "colab": {
      "provenance": [],
      "authorship_tag": "ABX9TyNzrU8OwKeR2vHjcbpXDqGx",
      "include_colab_link": true
    },
    "kernelspec": {
      "name": "python3",
      "display_name": "Python 3"
    },
    "language_info": {
      "name": "python"
    }
  },
  "cells": [
    {
      "cell_type": "markdown",
      "metadata": {
        "id": "view-in-github",
        "colab_type": "text"
      },
      "source": [
        "<a href=\"https://colab.research.google.com/github/venkatavellanki/venkatavellanki/blob/main/Task_12.ipynb\" target=\"_parent\"><img src=\"https://colab.research.google.com/assets/colab-badge.svg\" alt=\"Open In Colab\"/></a>"
      ]
    },
    {
      "cell_type": "code",
      "execution_count": 1,
      "metadata": {
        "colab": {
          "base_uri": "https://localhost:8080/"
        },
        "id": "4xIbOQ3eoXN9",
        "outputId": "ef275fbd-e3a9-48ba-cad1-2484b744a4e9"
      },
      "outputs": [
        {
          "output_type": "stream",
          "name": "stdout",
          "text": [
            "Name: Aditya, Age: 21\n"
          ]
        }
      ],
      "source": [
        "class Student:\n",
        "    def __init__(self, name, age):\n",
        "        self.name = name\n",
        "        self.age = age\n",
        "\n",
        "    def display(self):\n",
        "        print(f\"Name: {self.name}, Age: {self.age}\")\n",
        "\n",
        "s1 = Student(\"Aditya\", 21)\n",
        "s1.display()"
      ]
    },
    {
      "cell_type": "code",
      "source": [
        "class School:\n",
        "    school_name = \"Colts Neck High\"\n",
        "\n",
        "    def __init__(self, student_name):\n",
        "        self.student_name = student_name\n",
        "\n",
        "    @classmethod\n",
        "    def display_school(cls):\n",
        "        print(f\"School Name: {cls.school_name}\")\n",
        "\n",
        "s1 = School(\"Aditya\")\n",
        "School.display_school()"
      ],
      "metadata": {
        "colab": {
          "base_uri": "https://localhost:8080/"
        },
        "id": "kbyc-ZAsofd4",
        "outputId": "5d88bcec-e859-4b1b-bff8-43ff7fe96a42"
      },
      "execution_count": 2,
      "outputs": [
        {
          "output_type": "stream",
          "name": "stdout",
          "text": [
            "School Name: Colts Neck High\n"
          ]
        }
      ]
    },
    {
      "cell_type": "code",
      "source": [
        "class MathUtils:\n",
        "    @staticmethod\n",
        "    def add(x, y):\n",
        "        return x + y\n",
        "\n",
        "    @staticmethod\n",
        "    def multiply(x, y):\n",
        "        return x * y\n",
        "\n",
        "print(MathUtils.add(5, 3))\n",
        "print(MathUtils.multiply(4, 2))"
      ],
      "metadata": {
        "colab": {
          "base_uri": "https://localhost:8080/"
        },
        "id": "_9pOCUihok7Z",
        "outputId": "21323185-b29f-4ab8-8f6e-3072d994d4c5"
      },
      "execution_count": 3,
      "outputs": [
        {
          "output_type": "stream",
          "name": "stdout",
          "text": [
            "8\n",
            "8\n"
          ]
        }
      ]
    },
    {
      "cell_type": "code",
      "source": [
        "class Account:\n",
        "    def __init__(self, balance):\n",
        "        self.__balance = balance\n",
        "\n",
        "    def deposit(self, amount):\n",
        "        if amount > 0:\n",
        "            self.__balance += amount\n",
        "\n",
        "    def get_balance(self):\n",
        "        return self.__balance\n",
        "\n",
        "acc = Account(1000)\n",
        "acc.deposit(500)\n",
        "print(\"Balance:\", acc.get_balance())\n",
        "# print(acc.__balance)"
      ],
      "metadata": {
        "colab": {
          "base_uri": "https://localhost:8080/"
        },
        "id": "WJ8EI47Poo1X",
        "outputId": "d8aa9635-17cd-46e8-e5c0-bfe6397a26ca"
      },
      "execution_count": 4,
      "outputs": [
        {
          "output_type": "stream",
          "name": "stdout",
          "text": [
            "Balance: 1500\n"
          ]
        }
      ]
    },
    {
      "cell_type": "code",
      "source": [
        "class Animal:\n",
        "    def sound(self):\n",
        "        print(\"Animal makes a sound\")\n",
        "\n",
        "class Dog(Animal):\n",
        "    def bark(self):\n",
        "        print(\"Dog barks\")\n",
        "\n",
        "d = Dog()\n",
        "d.sound()\n",
        "d.bark()"
      ],
      "metadata": {
        "colab": {
          "base_uri": "https://localhost:8080/"
        },
        "id": "QmISmGtIouEy",
        "outputId": "7b3d7610-0c28-455c-df17-d627cacd6ce4"
      },
      "execution_count": 5,
      "outputs": [
        {
          "output_type": "stream",
          "name": "stdout",
          "text": [
            "Animal makes a sound\n",
            "Dog barks\n"
          ]
        }
      ]
    },
    {
      "cell_type": "code",
      "source": [
        "class Parent:\n",
        "    def greet(self):\n",
        "        print(\"Hello from Parent\")\n",
        "\n",
        "class Child(Parent):\n",
        "    def greet(self):\n",
        "        print(\"Hello from Child\")\n",
        "\n",
        "c = Child()\n",
        "c.greet()"
      ],
      "metadata": {
        "colab": {
          "base_uri": "https://localhost:8080/"
        },
        "id": "7i7XHPrqoxVY",
        "outputId": "d9c3a246-5cf0-424e-e14b-42fc35b2d8f1"
      },
      "execution_count": 6,
      "outputs": [
        {
          "output_type": "stream",
          "name": "stdout",
          "text": [
            "Hello from Child\n"
          ]
        }
      ]
    },
    {
      "cell_type": "code",
      "source": [
        "class Father:\n",
        "    def skills(self):\n",
        "        print(\"Gardening, Cooking\")\n",
        "\n",
        "class Mother:\n",
        "    def talents(self):\n",
        "        print(\"Painting, Singing\")\n",
        "\n",
        "class Child(Father, Mother):\n",
        "    def hobbies(self):\n",
        "        print(\"Cycling, Reading\")\n",
        "\n",
        "c = Child()\n",
        "c.skills()\n",
        "c.talents()\n",
        "c.hobbies()"
      ],
      "metadata": {
        "colab": {
          "base_uri": "https://localhost:8080/"
        },
        "id": "cXbGL1wVo3Rl",
        "outputId": "cbdf5ff7-3d64-4fe7-ae9b-6be8acf0570f"
      },
      "execution_count": 7,
      "outputs": [
        {
          "output_type": "stream",
          "name": "stdout",
          "text": [
            "Gardening, Cooking\n",
            "Painting, Singing\n",
            "Cycling, Reading\n"
          ]
        }
      ]
    },
    {
      "cell_type": "code",
      "source": [
        "class Grandparent:\n",
        "    def legacy(self):\n",
        "        print(\"Grandparent's legacy\")\n",
        "\n",
        "class Parent(Grandparent):\n",
        "    def values(self):\n",
        "        print(\"Parent's values\")\n",
        "\n",
        "class Child(Parent):\n",
        "    def habits(self):\n",
        "        print(\"Child's habits\")\n",
        "\n",
        "c = Child()\n",
        "c.legacy()\n",
        "c.values()\n",
        "c.habits()"
      ],
      "metadata": {
        "colab": {
          "base_uri": "https://localhost:8080/"
        },
        "id": "Wj9tLyQ0o5_i",
        "outputId": "6a13f9ea-456f-4f56-9eda-d3eddfdc08ec"
      },
      "execution_count": 8,
      "outputs": [
        {
          "output_type": "stream",
          "name": "stdout",
          "text": [
            "Grandparent's legacy\n",
            "Parent's values\n",
            "Child's habits\n"
          ]
        }
      ]
    },
    {
      "cell_type": "code",
      "source": [
        "class Vehicle:\n",
        "    def category(self):\n",
        "        print(\"This is a Vehicle\")\n",
        "\n",
        "class Car(Vehicle):\n",
        "    def wheels(self):\n",
        "        print(\"Car has 4 wheels\")\n",
        "\n",
        "class Bike(Vehicle):\n",
        "    def wheels(self):\n",
        "        print(\"Bike has 2 wheels\")\n",
        "\n",
        "car = Car()\n",
        "bike = Bike()\n",
        "car.category()\n",
        "car.wheels()\n",
        "bike.category()\n",
        "bike.wheels()"
      ],
      "metadata": {
        "colab": {
          "base_uri": "https://localhost:8080/"
        },
        "id": "8lv5AVSgo6-S",
        "outputId": "87c1dbef-0ffb-4c06-bdd0-72f962592995"
      },
      "execution_count": 9,
      "outputs": [
        {
          "output_type": "stream",
          "name": "stdout",
          "text": [
            "This is a Vehicle\n",
            "Car has 4 wheels\n",
            "This is a Vehicle\n",
            "Bike has 2 wheels\n"
          ]
        }
      ]
    }
  ]
}