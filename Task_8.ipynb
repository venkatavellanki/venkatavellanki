{
  "nbformat": 4,
  "nbformat_minor": 0,
  "metadata": {
    "colab": {
      "provenance": [],
      "authorship_tag": "ABX9TyMHdD5l134uMmwN43lChkUv",
      "include_colab_link": true
    },
    "kernelspec": {
      "name": "python3",
      "display_name": "Python 3"
    },
    "language_info": {
      "name": "python"
    }
  },
  "cells": [
    {
      "cell_type": "markdown",
      "metadata": {
        "id": "view-in-github",
        "colab_type": "text"
      },
      "source": [
        "<a href=\"https://colab.research.google.com/github/venkatavellanki/venkatavellanki/blob/main/Task_8.ipynb\" target=\"_parent\"><img src=\"https://colab.research.google.com/assets/colab-badge.svg\" alt=\"Open In Colab\"/></a>"
      ]
    },
    {
      "cell_type": "code",
      "execution_count": 1,
      "metadata": {
        "colab": {
          "base_uri": "https://localhost:8080/"
        },
        "id": "m7RrgZmlSwhj",
        "outputId": "2901b48a-091c-4202-85a0-ec295d65f35b"
      },
      "outputs": [
        {
          "output_type": "stream",
          "name": "stdout",
          "text": [
            "Dictionary: {'a': 1, 'b': 2, 'c': 3, 'd': 4, 'e': 5}\n"
          ]
        }
      ],
      "source": [
        "my_dict = {'a': 1, 'b': 2, 'c': 3, 'd': 4, 'e': 5}\n",
        "print(\"Dictionary:\", my_dict)"
      ]
    },
    {
      "cell_type": "code",
      "source": [
        "print(\"Value for key 'c':\", my_dict['c'])"
      ],
      "metadata": {
        "colab": {
          "base_uri": "https://localhost:8080/"
        },
        "id": "r8zenJemTGvy",
        "outputId": "aba6b408-e2a4-4126-fa03-db27b6235b73"
      },
      "execution_count": 2,
      "outputs": [
        {
          "output_type": "stream",
          "name": "stdout",
          "text": [
            "Value for key 'c': 3\n"
          ]
        }
      ]
    },
    {
      "cell_type": "code",
      "source": [
        " my_dict['f'] = 6\n",
        "print(\"After adding 'f':\", my_dict)"
      ],
      "metadata": {
        "colab": {
          "base_uri": "https://localhost:8080/"
        },
        "id": "nafZ0mOpTKql",
        "outputId": "bf03d041-c540-4153-bc6d-6e552d3ec3e7"
      },
      "execution_count": 3,
      "outputs": [
        {
          "output_type": "stream",
          "name": "stdout",
          "text": [
            "After adding 'f': {'a': 1, 'b': 2, 'c': 3, 'd': 4, 'e': 5, 'f': 6}\n"
          ]
        }
      ]
    },
    {
      "cell_type": "code",
      "source": [
        "my_dict.pop('b')  # removes key 'b'\n",
        "print(\"After removing 'b':\", my_dict)"
      ],
      "metadata": {
        "colab": {
          "base_uri": "https://localhost:8080/"
        },
        "id": "5of7nB3JTNj_",
        "outputId": "c65b1484-10bd-40dc-ee9c-74f9fc39b894"
      },
      "execution_count": 4,
      "outputs": [
        {
          "output_type": "stream",
          "name": "stdout",
          "text": [
            "After removing 'b': {'a': 1, 'c': 3, 'd': 4, 'e': 5, 'f': 6}\n"
          ]
        }
      ]
    },
    {
      "cell_type": "code",
      "source": [
        "key_to_check = 'd'\n",
        "if key_to_check in my_dict:\n",
        "    print(f\"Key '{key_to_check}' exists in dictionary.\")\n",
        "else:\n",
        "    print(f\"Key '{key_to_check}' does NOT exist in dictionary.\")"
      ],
      "metadata": {
        "colab": {
          "base_uri": "https://localhost:8080/"
        },
        "id": "Ls3RM2e0TP_t",
        "outputId": "d02e2ca0-e8f1-4b05-ddfa-88b17e59b00a"
      },
      "execution_count": 5,
      "outputs": [
        {
          "output_type": "stream",
          "name": "stdout",
          "text": [
            "Key 'd' exists in dictionary.\n"
          ]
        }
      ]
    },
    {
      "cell_type": "code",
      "source": [
        "for key, value in my_dict.items():\n",
        "    print(f\"Key: {key}, Value: {value}\")"
      ],
      "metadata": {
        "colab": {
          "base_uri": "https://localhost:8080/"
        },
        "id": "CL5VM1RATTp1",
        "outputId": "77c33bd2-c09b-43ee-91ee-41e461b79b39"
      },
      "execution_count": 6,
      "outputs": [
        {
          "output_type": "stream",
          "name": "stdout",
          "text": [
            "Key: a, Value: 1\n",
            "Key: c, Value: 3\n",
            "Key: d, Value: 4\n",
            "Key: e, Value: 5\n",
            "Key: f, Value: 6\n"
          ]
        }
      ]
    },
    {
      "cell_type": "code",
      "source": [
        "print(\"Number of items in dictionary:\", len(my_dict))"
      ],
      "metadata": {
        "colab": {
          "base_uri": "https://localhost:8080/"
        },
        "id": "mjoPdeKGTW_K",
        "outputId": "c6c9ff28-5912-463c-c99b-2c87cdf787ff"
      },
      "execution_count": 7,
      "outputs": [
        {
          "output_type": "stream",
          "name": "stdout",
          "text": [
            "Number of items in dictionary: 5\n"
          ]
        }
      ]
    },
    {
      "cell_type": "code",
      "source": [
        "nested_dict = {\n",
        "    'person1': {'name': 'Alice', 'age': 25},\n",
        "    'person2': {'name': 'Bob', 'age': 30}\n",
        "}\n",
        "print(\"Person1's age:\", nested_dict['person1']['age'])"
      ],
      "metadata": {
        "colab": {
          "base_uri": "https://localhost:8080/"
        },
        "id": "6c3e0rcaTa5a",
        "outputId": "861aed4c-bff3-49d0-eff7-a8cee9715ceb"
      },
      "execution_count": 8,
      "outputs": [
        {
          "output_type": "stream",
          "name": "stdout",
          "text": [
            "Person1's age: 25\n"
          ]
        }
      ]
    },
    {
      "cell_type": "code",
      "source": [
        "update_dict = {'g': 7, 'h': 8}\n",
        "my_dict.update(update_dict)\n",
        "print(\"After update:\", my_dict)"
      ],
      "metadata": {
        "colab": {
          "base_uri": "https://localhost:8080/"
        },
        "id": "_p8k-y-3Td_j",
        "outputId": "3d33e664-8306-487f-8a05-bb454d694ff5"
      },
      "execution_count": 9,
      "outputs": [
        {
          "output_type": "stream",
          "name": "stdout",
          "text": [
            "After update: {'a': 1, 'c': 3, 'd': 4, 'e': 5, 'f': 6, 'g': 7, 'h': 8}\n"
          ]
        }
      ]
    },
    {
      "cell_type": "code",
      "source": [
        "keys = ['x', 'y', 'z']\n",
        "values = [9, 10, 11]\n",
        "new_dict = dict(zip(keys, values))\n",
        "print(\"New dictionary:\", new_dict)"
      ],
      "metadata": {
        "colab": {
          "base_uri": "https://localhost:8080/"
        },
        "id": "TBIO0j7BTgxK",
        "outputId": "9e2566b0-d675-4f9a-edab-d446a6d606ad"
      },
      "execution_count": 10,
      "outputs": [
        {
          "output_type": "stream",
          "name": "stdout",
          "text": [
            "New dictionary: {'x': 9, 'y': 10, 'z': 11}\n"
          ]
        }
      ]
    },
    {
      "cell_type": "code",
      "source": [
        "numbers_dict = {'a': 15, 'b': 3, 'c': 9, 'd': 27}\n",
        "max_value = max(numbers_dict.values())\n",
        "min_value = min(numbers_dict.values())\n",
        "print(\"Max value:\", max_value)\n",
        "print(\"Min value:\", min_value)"
      ],
      "metadata": {
        "colab": {
          "base_uri": "https://localhost:8080/"
        },
        "id": "RQ7gwS_VTjvy",
        "outputId": "b20ac03d-1ea5-4819-e521-988d572a9e72"
      },
      "execution_count": 11,
      "outputs": [
        {
          "output_type": "stream",
          "name": "stdout",
          "text": [
            "Max value: 27\n",
            "Min value: 3\n"
          ]
        }
      ]
    }
  ]
}