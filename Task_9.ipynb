{
  "nbformat": 4,
  "nbformat_minor": 0,
  "metadata": {
    "colab": {
      "provenance": [],
      "authorship_tag": "ABX9TyM/sC124/IMVWLCYbeP6b72",
      "include_colab_link": true
    },
    "kernelspec": {
      "name": "python3",
      "display_name": "Python 3"
    },
    "language_info": {
      "name": "python"
    }
  },
  "cells": [
    {
      "cell_type": "markdown",
      "metadata": {
        "id": "view-in-github",
        "colab_type": "text"
      },
      "source": [
        "<a href=\"https://colab.research.google.com/github/venkatavellanki/venkatavellanki/blob/main/Task_9.ipynb\" target=\"_parent\"><img src=\"https://colab.research.google.com/assets/colab-badge.svg\" alt=\"Open In Colab\"/></a>"
      ]
    },
    {
      "cell_type": "code",
      "execution_count": 1,
      "metadata": {
        "colab": {
          "base_uri": "https://localhost:8080/"
        },
        "id": "qjqYKJcpT1CA",
        "outputId": "7c493ffc-30ef-4e66-cd04-3b97955d815a"
      },
      "outputs": [
        {
          "output_type": "stream",
          "name": "stdout",
          "text": [
            "Hello, World!\n"
          ]
        }
      ],
      "source": [
        "def greet():\n",
        "    print(\"Hello, World!\")\n",
        "\n",
        "greet()"
      ]
    },
    {
      "cell_type": "code",
      "source": [
        "def add(a, b):\n",
        "    return a + b\n",
        "\n",
        "result = add(5, 7)\n",
        "print(\"Sum:\", result)"
      ],
      "metadata": {
        "colab": {
          "base_uri": "https://localhost:8080/"
        },
        "id": "QF6nrEPbUBV5",
        "outputId": "223d5f76-24e0-4fb1-cc43-2bd0e6c0e07b"
      },
      "execution_count": 2,
      "outputs": [
        {
          "output_type": "stream",
          "name": "stdout",
          "text": [
            "Sum: 12\n"
          ]
        }
      ]
    },
    {
      "cell_type": "code",
      "source": [
        "def greatest_of_three(x, y, z):\n",
        "    if x >= y and x >= z:\n",
        "        return x\n",
        "    elif y >= x and y >= z:\n",
        "        return y\n",
        "    else:\n",
        "        return z\n",
        "\n",
        "print(\"Greatest:\", greatest_of_three(10, 25, 15))"
      ],
      "metadata": {
        "colab": {
          "base_uri": "https://localhost:8080/"
        },
        "id": "GnSR79oRUEX7",
        "outputId": "ba82d212-ab1e-413d-e09e-4de9338f5189"
      },
      "execution_count": 3,
      "outputs": [
        {
          "output_type": "stream",
          "name": "stdout",
          "text": [
            "Greatest: 25\n"
          ]
        }
      ]
    },
    {
      "cell_type": "code",
      "source": [
        "def is_palindrome(s):\n",
        "    s = s.lower()\n",
        "    return s == s[::-1]\n",
        "\n",
        "word = \"Racecar\"\n",
        "print(f\"Is '{word}' palindrome?:\", is_palindrome(word))"
      ],
      "metadata": {
        "colab": {
          "base_uri": "https://localhost:8080/"
        },
        "id": "w7zgYcmWUH2G",
        "outputId": "8eaaeccb-8903-46b7-be0d-9c33226a686e"
      },
      "execution_count": 4,
      "outputs": [
        {
          "output_type": "stream",
          "name": "stdout",
          "text": [
            "Is 'Racecar' palindrome?: True\n"
          ]
        }
      ]
    },
    {
      "cell_type": "code",
      "source": [
        "def reverse_string(s):\n",
        "    rev = \"\"\n",
        "    for char in s:\n",
        "        rev = char + rev\n",
        "    return rev\n",
        "\n",
        "print(reverse_string(\"hello\"))"
      ],
      "metadata": {
        "colab": {
          "base_uri": "https://localhost:8080/"
        },
        "id": "A3BK_7v1UK_p",
        "outputId": "90b13f57-02a7-4f92-d586-ee3f295f8166"
      },
      "execution_count": 5,
      "outputs": [
        {
          "output_type": "stream",
          "name": "stdout",
          "text": [
            "olleh\n"
          ]
        }
      ]
    },
    {
      "cell_type": "code",
      "source": [
        "def sum_list(nums):\n",
        "    total = 0\n",
        "    for num in nums:\n",
        "        total += num\n",
        "    return total\n",
        "\n",
        "print(\"Sum of list:\", sum_list([1, 2, 3, 4, 5]))"
      ],
      "metadata": {
        "colab": {
          "base_uri": "https://localhost:8080/"
        },
        "id": "2bnew7KQUOlD",
        "outputId": "f3ab5321-02d1-4608-fb1f-8759ecc4fe8c"
      },
      "execution_count": 6,
      "outputs": [
        {
          "output_type": "stream",
          "name": "stdout",
          "text": [
            "Sum of list: 15\n"
          ]
        }
      ]
    },
    {
      "cell_type": "code",
      "source": [
        "def reverse_string(s):\n",
        "    rev = \"\"\n",
        "    for char in s:\n",
        "        rev = char + rev\n",
        "    return rev\n",
        "\n",
        "print(reverse_string(\"python\"))"
      ],
      "metadata": {
        "colab": {
          "base_uri": "https://localhost:8080/"
        },
        "id": "xvCJ9nOIUR4O",
        "outputId": "ed0930ee-acb7-41dd-d08d-ed2b6bd90fcc"
      },
      "execution_count": 7,
      "outputs": [
        {
          "output_type": "stream",
          "name": "stdout",
          "text": [
            "nohtyp\n"
          ]
        }
      ]
    }
  ]
}